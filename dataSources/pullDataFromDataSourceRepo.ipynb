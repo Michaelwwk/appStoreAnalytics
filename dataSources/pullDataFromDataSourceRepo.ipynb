{
 "cells": [
  {
   "cell_type": "markdown",
   "metadata": {},
   "source": [
    "### Import libraries and datasets"
   ]
  },
  {
   "cell_type": "code",
   "execution_count": 1,
   "metadata": {},
   "outputs": [],
   "source": [
    "import os\n",
    "import subprocess\n",
    "import glob\n",
    "import shutil\n",
    "import pandas as pd\n",
    "from google.cloud import bigquery\n",
    "from pandas_gbq import read_gbq\n",
    "from datetime import datetime\n",
    "from pytz import timezone"
   ]
  },
  {
   "cell_type": "code",
   "execution_count": 2,
   "metadata": {},
   "outputs": [
    {
     "name": "stdout",
     "output_type": "stream",
     "text": [
      "Folder path: c:/Users/Michael/Documents/GitHub/appStoreAnalytics/dataSources\n"
     ]
    }
   ],
   "source": [
    "folder_path = os.getcwd().replace(\"\\\\\", \"/\")\n",
    "print(f\"Folder path: {folder_path}\")"
   ]
  },
  {
   "cell_type": "code",
   "execution_count": 3,
   "metadata": {},
   "outputs": [],
   "source": [
    "# Hard-coded variables\n",
    "\n",
    "project_id = \"big-data-analytics-412816\"\n",
    "dataset = \"practice_project\"\n",
    "apple_db_path = f\"{project_id}.{dataset}.apple\"\n",
    "android_db_path = f\"{project_id}.{dataset}.android\"\n",
    "\n",
    "client = bigquery.Client.from_service_account_json(f\"{folder_path}/big-data-analytics-412816-1be796546c90.json\")\n",
    "apple_csv_path = f\"{folder_path}/apple.csv\"\n",
    "android_csv_path = f\"{folder_path}/android.csv\""
   ]
  },
  {
   "cell_type": "code",
   "execution_count": 4,
   "metadata": {},
   "outputs": [
    {
     "name": "stdout",
     "output_type": "stream",
     "text": [
      "Apple dataset: 1230376 rows, 21 columns\n",
      "Android dataset: 2312944 rows, 24 columns\n"
     ]
    }
   ],
   "source": [
    "# Apple\n",
    "## Clone the repository\n",
    "subprocess.run([\"git\", \"clone\", \"https://github.com/gauthamp10/apple-appstore-apps.git\"])\n",
    "## Change directory to the dataset folder\n",
    "os.chdir(\"apple-appstore-apps/dataset\")\n",
    "## Extract the tar.lzma file\n",
    "subprocess.run([\"tar\", \"-xvf\", \"appleAppData.json.tar.lzma\"])\n",
    "## Read into DataFrame\n",
    "apple = pd.read_json(\"appleAppData.json\")\n",
    "print(f\"Apple dataset: {apple.shape[0]} rows, {apple.shape[1]} columns\")\n",
    "\n",
    "# Android\n",
    "## Clone the repository\n",
    "subprocess.run([\"git\", \"clone\", \"https://github.com/gauthamp10/Google-Playstore-Dataset.git\"])\n",
    "## Change directory to the dataset folder\n",
    "os.chdir(\"Google-Playstore-Dataset/dataset\")\n",
    "## Extract all .tar.gz files\n",
    "for f in os.listdir():\n",
    "    if f.endswith(\".tar.gz\"):\n",
    "        subprocess.run([\"tar\", \"-xvf\", f])\n",
    "combined_csv = \"Google-Playstore-Dataset.csv\"\n",
    "with open(combined_csv, \"wb\") as outfile:\n",
    "    for csvfile in glob.glob(\"Part?.csv\"):\n",
    "        with open(csvfile, \"rb\") as infile:\n",
    "            outfile.write(infile.read())\n",
    "## Read into DataFrame\n",
    "android = pd.read_csv(\"Google-Playstore-Dataset.csv\")\n",
    "print(f\"Android dataset: {android.shape[0]} rows, {android.shape[1]} columns\")"
   ]
  },
  {
   "cell_type": "markdown",
   "metadata": {},
   "source": [
    "### Push datasets into Google BigQuery"
   ]
  },
  {
   "cell_type": "code",
   "execution_count": 5,
   "metadata": {},
   "outputs": [
    {
     "data": {
      "text/plain": [
       "Table(TableReference(DatasetReference('big-data-analytics-412816', 'practice_project'), 'android'))"
      ]
     },
     "execution_count": 5,
     "metadata": {},
     "output_type": "execute_result"
    }
   ],
   "source": [
    "# Create 'apple' table in DB\n",
    "job = client.query(f\"DROP TABLE {apple_db_path}\").result()\n",
    "client.create_table(bigquery.Table(apple_db_path))\n",
    "\n",
    "# Create 'android' table in DB\n",
    "job = client.query(f\"DROP TABLE {android_db_path}\").result()\n",
    "client.create_table(bigquery.Table(android_db_path))"
   ]
  },
  {
   "cell_type": "code",
   "execution_count": 6,
   "metadata": {},
   "outputs": [],
   "source": [
    "# Save data as CSV files\n",
    "apple.to_csv(apple_csv_path)\n",
    "android.to_csv(android_csv_path)"
   ]
  },
  {
   "cell_type": "code",
   "execution_count": 7,
   "metadata": {},
   "outputs": [
    {
     "name": "stdout",
     "output_type": "stream",
     "text": [
      "CPU times: total: 516 ms\n",
      "Wall time: 6min 13s\n"
     ]
    },
    {
     "data": {
      "text/plain": [
       "LoadJob<project=big-data-analytics-412816, location=US, id=9faf5564-03de-40d0-a616-5ec8cc05ac1b>"
      ]
     },
     "execution_count": 7,
     "metadata": {},
     "output_type": "execute_result"
    }
   ],
   "source": [
    "%%time\n",
    "\n",
    "# Push data into DB\n",
    "\n",
    "job_config = bigquery.LoadJobConfig(\n",
    "    autodetect=True,\n",
    "    source_format=bigquery.SourceFormat.CSV,\n",
    ")\n",
    "apple_config = client.dataset(dataset).table('apple')\n",
    "android_config = client.dataset(dataset).table('android')\n",
    "\n",
    "with open(apple_csv_path, 'rb') as f:\n",
    "    load_job = client.load_table_from_file(f, apple_config, job_config=job_config)\n",
    "load_job.result()\n",
    "\n",
    "with open(android_csv_path, 'rb') as f:\n",
    "    load_job = client.load_table_from_file(f, android_config, job_config=job_config)\n",
    "load_job.result() "
   ]
  },
  {
   "cell_type": "code",
   "execution_count": 8,
   "metadata": {},
   "outputs": [],
   "source": [
    "# Remove CSV files and folder\n",
    "try:\n",
    "    os.remove(apple_csv_path)\n",
    "    os.remove(android_csv_path)\n",
    "    shutil.rmtree(f\"{folder_path}apple-appstore-apps\")\n",
    "except:\n",
    "    pass"
   ]
  },
  {
   "cell_type": "code",
   "execution_count": 9,
   "metadata": {},
   "outputs": [
    {
     "name": "stderr",
     "output_type": "stream",
     "text": [
      "C:\\Users\\Michael\\AppData\\Roaming\\Python\\Python312\\site-packages\\google\\cloud\\bigquery\\table.py:2257: UserWarning: A progress bar was requested, but there was an error loading the tqdm library. Please install tqdm to use the progress bar functionality.\n",
      "  record_batch = self.to_arrow(\n"
     ]
    },
    {
     "name": "stdout",
     "output_type": "stream",
     "text": [
      "(1230376, 22)\n"
     ]
    },
    {
     "name": "stderr",
     "output_type": "stream",
     "text": [
      "C:\\Users\\Michael\\AppData\\Roaming\\Python\\Python312\\site-packages\\google\\cloud\\bigquery\\table.py:2257: UserWarning: A progress bar was requested, but there was an error loading the tqdm library. Please install tqdm to use the progress bar functionality.\n",
      "  record_batch = self.to_arrow(\n"
     ]
    },
    {
     "name": "stdout",
     "output_type": "stream",
     "text": [
      "(2312944, 25)\n",
      "CPU times: total: 2min 4s\n",
      "Wall time: 36min 54s\n"
     ]
    }
   ],
   "source": [
    "%%time\n",
    "\n",
    "apple_query = f\"\"\"\n",
    "    SELECT *\n",
    "    FROM {apple_db_path}\n",
    "\"\"\"\n",
    "apple_df = read_gbq(apple_query, project_id)\n",
    "print(apple_df.shape)\n",
    "\n",
    "android_query = f\"\"\"\n",
    "    SELECT *\n",
    "    FROM {android_db_path}\n",
    "\"\"\"\n",
    "android_df = read_gbq(android_query, project_id)\n",
    "print(android_df.shape)"
   ]
  },
  {
   "cell_type": "markdown",
   "metadata": {},
   "source": [
    "### Add dateTime table to track date and time of database update"
   ]
  },
  {
   "cell_type": "code",
   "execution_count": 62,
   "metadata": {},
   "outputs": [
    {
     "data": {
      "text/plain": [
       "Table(TableReference(DatasetReference('big-data-analytics-412816', 'practice_project'), 'dateTime'))"
      ]
     },
     "execution_count": 62,
     "metadata": {},
     "output_type": "execute_result"
    }
   ],
   "source": [
    "dateTime_csv_path = f\"{folder_path}/dateTime.csv\"\n",
    "\n",
    "# Create 'dateTime' table in DB\n",
    "dateTime_db_path = f\"{project_id}.{dataset}.dateTime\"\n",
    "client.create_table(bigquery.Table(dateTime_db_path), exists_ok = True)"
   ]
  },
  {
   "cell_type": "code",
   "execution_count": 63,
   "metadata": {},
   "outputs": [],
   "source": [
    "current_time = datetime.now(timezone('Asia/Shanghai'))\n",
    "timestamp_string = current_time.isoformat()"
   ]
  },
  {
   "cell_type": "code",
   "execution_count": 64,
   "metadata": {},
   "outputs": [],
   "source": [
    "dt = datetime.strptime(timestamp_string, '%Y-%m-%dT%H:%M:%S.%f%z')\n",
    "date_time_str = dt.strftime('%d-%m-%Y %H:%M:%S')  # Date and time\n",
    "time_zone = dt.strftime('%z')  # Time zone\n",
    "output = f\"Date and Time: {date_time_str}; Time zone: {time_zone}\""
   ]
  },
  {
   "cell_type": "code",
   "execution_count": 65,
   "metadata": {},
   "outputs": [],
   "source": [
    "dateTime_df = pd.DataFrame(data = [output], columns = ['dateTime'])\n",
    "dateTime_df.to_csv(f\"{folder_path}/dateTime.csv\", header = True)"
   ]
  },
  {
   "cell_type": "code",
   "execution_count": 67,
   "metadata": {},
   "outputs": [
    {
     "data": {
      "text/plain": [
       "LoadJob<project=big-data-analytics-412816, location=US, id=a17247a1-44f1-4e52-a1c6-44aeb90145b7>"
      ]
     },
     "execution_count": 67,
     "metadata": {},
     "output_type": "execute_result"
    }
   ],
   "source": [
    "job_config = bigquery.LoadJobConfig(\n",
    "    autodetect=True,\n",
    "    source_format=bigquery.SourceFormat.CSV,\n",
    ")\n",
    "\n",
    "dateTime_config = client.dataset(dataset).table('dateTime')\n",
    "\n",
    "with open(dateTime_csv_path, 'rb') as f:\n",
    "    load_job = client.load_table_from_file(f, dateTime_config, job_config=job_config)\n",
    "load_job.result()"
   ]
  },
  {
   "cell_type": "code",
   "execution_count": 68,
   "metadata": {},
   "outputs": [],
   "source": [
    "# Remove CSV file\n",
    "try:\n",
    "    os.remove(dateTime_csv_path)\n",
    "except:\n",
    "    pass"
   ]
  }
 ],
 "metadata": {
  "kernelspec": {
   "display_name": "Python 3",
   "language": "python",
   "name": "python3"
  },
  "language_info": {
   "codemirror_mode": {
    "name": "ipython",
    "version": 3
   },
   "file_extension": ".py",
   "mimetype": "text/x-python",
   "name": "python",
   "nbconvert_exporter": "python",
   "pygments_lexer": "ipython3",
   "version": "3.12.1"
  }
 },
 "nbformat": 4,
 "nbformat_minor": 2
}
